{
  "nbformat": 4,
  "nbformat_minor": 0,
  "metadata": {
    "colab": {
      "provenance": []
    },
    "kernelspec": {
      "name": "python3",
      "display_name": "Python 3"
    },
    "language_info": {
      "name": "python"
    }
  },
  "cells": [
    {
      "cell_type": "markdown",
      "source": [
        "# **Importing the necessary libraries**"
      ],
      "metadata": {
        "id": "vLBrPcSTEn20"
      }
    },
    {
      "cell_type": "code",
      "source": [
        "import json\n",
        "import os\n",
        "import pandas as pd\n",
        "import numpy as np\n",
        "from collections import defaultdict\n",
        "from datetime import datetime\n",
        "import argparse\n",
        "import matplotlib.pyplot as plt\n",
        "import seaborn as sns\n",
        "from sklearn.ensemble import RandomForestRegressor\n",
        "from sklearn.preprocessing import MinMaxScaler\n",
        "from sklearn.model_selection import train_test_split"
      ],
      "metadata": {
        "id": "jWiR5a1i7-MU"
      },
      "execution_count": 1,
      "outputs": []
    },
    {
      "cell_type": "markdown",
      "source": [
        "# **Loading The Data**"
      ],
      "metadata": {
        "id": "jXyeJcmDE1ya"
      }
    },
    {
      "cell_type": "code",
      "source": [
        "with open(\"/content/user-wallet-transactions.json\") as f:\n",
        "    data = json.load(f)\n",
        "\n",
        "records = []\n",
        "for txn in data:\n",
        "    records.append(txn)\n",
        "\n",
        "df = pd.DataFrame(records)\n",
        "print(df.head(2))"
      ],
      "metadata": {
        "colab": {
          "base_uri": "https://localhost:8080/"
        },
        "id": "xWJ3s6gWE0rL",
        "outputId": "8ba1a7d4-375f-4a1a-89d7-a0e873757fde"
      },
      "execution_count": 2,
      "outputs": [
        {
          "output_type": "stream",
          "name": "stdout",
          "text": [
            "                                    _id  \\\n",
            "0  {'$oid': '681d38fed63812d4655f571a'}   \n",
            "1  {'$oid': '681aa70dd6df53021cc6f3c0'}   \n",
            "\n",
            "                                   userWallet  network protocol  \\\n",
            "0  0x00000000001accfa9cef68cf5371a23025b6d4b6  polygon  aave_v2   \n",
            "1  0x000000000051d07a4fb3bd10121a343d85818da6  polygon  aave_v2   \n",
            "\n",
            "                                              txHash  \\\n",
            "0  0x695c69acf608fbf5d38e48ca5535e118cc213a89e3d6...   \n",
            "1  0xe6fc162c86b2928b0ba9b82bda672763665152b9de9d...   \n",
            "\n",
            "                                               logId   timestamp  blockNumber  \\\n",
            "0  0x695c69acf608fbf5d38e48ca5535e118cc213a89e3d6...  1629178166   1629178166   \n",
            "1  0xe6fc162c86b2928b0ba9b82bda672763665152b9de9d...  1621525013   1621525013   \n",
            "\n",
            "    action                                         actionData  __v  \\\n",
            "0  deposit  {'type': 'Deposit', 'amount': '2000000000', 'a...    0   \n",
            "1  deposit  {'type': 'Deposit', 'amount': '145000000000000...    0   \n",
            "\n",
            "                               createdAt  \\\n",
            "0  {'$date': '2025-05-08T23:06:39.465Z'}   \n",
            "1  {'$date': '2025-05-07T00:19:26.159Z'}   \n",
            "\n",
            "                               updatedAt  \n",
            "0  {'$date': '2025-05-08T23:06:39.465Z'}  \n",
            "1  {'$date': '2025-05-07T00:19:26.159Z'}  \n"
          ]
        }
      ]
    },
    {
      "cell_type": "code",
      "source": [
        "print(df['userWallet'].value_counts())"
      ],
      "metadata": {
        "colab": {
          "base_uri": "https://localhost:8080/"
        },
        "id": "GJ8ejxxl-gyW",
        "outputId": "793a2616-260c-48d9-fdb7-86556b3f73c8"
      },
      "execution_count": 3,
      "outputs": [
        {
          "output_type": "stream",
          "name": "stdout",
          "text": [
            "userWallet\n",
            "0x05c9db563db8e38cc2899297da41ce430b61a484    14265\n",
            "0x0298b2ecdef68bc139b098461217a5b3161b69c8     1227\n",
            "0x04d9f6ecd792e48a09fa5dc2138baed8e628a7e5     1089\n",
            "0x047a96ef72d7ee6a3f193bdb92e998fb300265df      820\n",
            "0x005f16f017aa933bb41965b52848ceb8ee48b171      767\n",
            "                                              ...  \n",
            "0x042ca8981305042407c7d27bafc373c005b8790e        1\n",
            "0x042b12e77388ca4f9c773b49efe98115b9c5839e        1\n",
            "0x0429e9a1931ae77fe39b6c17d7660382c85d28f2        1\n",
            "0x0428be07db700e3b25addff63567584a3b15fdcc        1\n",
            "0x060aa29adb1e32a4d5471461ea5e9815028a82c5        1\n",
            "Name: count, Length: 3497, dtype: int64\n"
          ]
        }
      ]
    },
    {
      "cell_type": "code",
      "source": [
        "print(df.groupby('action').size())"
      ],
      "metadata": {
        "colab": {
          "base_uri": "https://localhost:8080/"
        },
        "id": "hrb76tCe--8a",
        "outputId": "7ace7944-1111-40d6-ec9d-bd65249be834"
      },
      "execution_count": 4,
      "outputs": [
        {
          "output_type": "stream",
          "name": "stdout",
          "text": [
            "action\n",
            "borrow              17086\n",
            "deposit             37808\n",
            "liquidationcall       248\n",
            "redeemunderlying    32305\n",
            "repay               12553\n",
            "dtype: int64\n"
          ]
        }
      ]
    },
    {
      "cell_type": "markdown",
      "source": [
        "# **Getting Scores using Hueristic formula**"
      ],
      "metadata": {
        "id": "lp500qwrREkS"
      }
    },
    {
      "cell_type": "markdown",
      "source": [
        "formula= 300 * repay_to_borrow +\n",
        "        300 * (1 - liquidation_ratio) +\n",
        "        200 * min(1, np.log1p(deposit) / 10) +\n",
        "        200 * (active_days / time_span)\n",
        "### Explanation of the Formula\n",
        "* 300 * repay_to_borrow\n",
        "        1. Measures how well a wallet repays what it borrows.\n",
        "\n",
        "        2. repay_to_borrow = repay / borrow\n",
        "\n",
        "        3. A high ratio (close to 1) means they repay all debts → good behavior.\n",
        "\n",
        "        4. If they borrow and never repay → ratio is 0 → credit risk.\n",
        "* 200 * min(1, np.log1p(deposit) / 10)\n",
        "        1. Measures the total deposited capital (log-scaled)\n",
        "\n",
        "        2. np.log1p(deposit) scales deposit amount logarithmically\n",
        "\n",
        "        3. Prevents whales from unfairly inflating scores just by dumping money\n",
        "\n",
        "        4. Doesn't affect our score much so weights = 200\n",
        "\n",
        "* 200 * (active_days / time_span)\n",
        "        1. Measures consistency\n",
        "\n",
        "        2. If a wallet interacts frequently and consistently over time, it’s less likely to be a bot or one-time exploit.\n",
        "\n",
        "        3. active_days / time_span is engagement frequency\n",
        "        \n",
        "* 300 * (1 - liquidation_ratio)\n",
        "        1. Measures how often the wallet got liquidated.\n",
        "\n",
        "        2. liquidation_ratio = liquidationcalls / total_txns\n",
        "\n",
        "        3. A wallet that never gets liquidated → good risk management.\n",
        "\n",
        "        4. Liquidations mean they over-leveraged or mismanaged assets"
      ],
      "metadata": {
        "id": "TjTQRnDUTGDv"
      }
    },
    {
      "cell_type": "code",
      "execution_count": 5,
      "metadata": {
        "id": "vb8on7C356lZ"
      },
      "outputs": [],
      "source": [
        "def parse_timestamp(ts):\n",
        "    if isinstance(ts, dict) and '$date' in ts:\n",
        "        return datetime.fromisoformat(ts['$date'].replace('Z', '+00:00'))\n",
        "    elif isinstance(ts, str):\n",
        "        try:\n",
        "            return datetime.fromisoformat(ts.replace('Z', '+00:00'))\n",
        "        except ValueError:\n",
        "            pass\n",
        "    elif isinstance(ts, (int, float)):\n",
        "        return datetime.utcfromtimestamp(ts)\n",
        "    return None\n",
        "\n",
        "\n",
        "def score_wallet(wallet_data):\n",
        "    txns = wallet_data[\"transactions\"]\n",
        "    actions = [tx[\"action\"] for tx in txns]\n",
        "    timestamps = [parse_timestamp(tx[\"timestamp\"]) for tx in txns if parse_timestamp(tx[\"timestamp\"]) is not None]\n",
        "    amounts = defaultdict(float)\n",
        "\n",
        "    for tx in txns:\n",
        "        action = tx[\"action\"].lower()\n",
        "        try:\n",
        "            amount = float(tx.get(\"actionData\", {}).get(\"amount\", 0))\n",
        "        except (ValueError, TypeError):\n",
        "            amount = 0.0  # Assign 0 if conversion fails\n",
        "        amounts[action] += amount\n",
        "\n",
        "    borrow = amounts['borrow']\n",
        "    repay = amounts['repay']\n",
        "    deposit = amounts['deposit']\n",
        "    redeem = amounts['redeemunderlying']\n",
        "    liquidations = actions.count(\"liquidationcall\")\n",
        "\n",
        "    # Safe ratios\n",
        "    repay_to_borrow = repay / borrow if borrow > 0 else 1\n",
        "    liquidation_ratio = liquidations / len(txns) if txns else 0\n",
        "    redeem_to_deposit = redeem / deposit if deposit > 0 else 1\n",
        "\n",
        "    active_days = len(set(ts.date() for ts in timestamps))\n",
        "    time_span = (max(timestamps) - min(timestamps)).days + 1 if timestamps else 1 # Avoid division by zero\n",
        "\n",
        "    # Heuristic scoring formula\n",
        "    score = (\n",
        "        300 * repay_to_borrow +\n",
        "        300 * (1 - liquidation_ratio) +\n",
        "        200 * min(1, np.log1p(deposit) / 10) +\n",
        "        200 * (active_days / time_span)\n",
        "    )\n",
        "    return min(1000, max(0, int(score)))\n",
        "\n",
        "def calculate_wallet_scores(df):\n",
        "    results = {}\n",
        "    for wallet, group_df in df.groupby('userWallet'):\n",
        "        wallet_data = {\"transactions\": group_df.to_dict('records')}\n",
        "        results[wallet] = score_wallet(wallet_data)\n",
        "    metadata = pd.Series(data)\n",
        "    return results"
      ]
    },
    {
      "cell_type": "code",
      "metadata": {
        "colab": {
          "base_uri": "https://localhost:8080/"
        },
        "id": "6ac20811",
        "outputId": "d17d1511-a2f6-4e73-c776-ce2ea61c79b1"
      },
      "source": [
        "wallet_scores = calculate_wallet_scores(df)\n",
        "Df2 = pd.Series(wallet_scores, name='Score').to_frame()\n",
        "Df2.to_json(\"scores.json\")\n",
        "Df2['userWallet']=Df2.index\n",
        "Df2.reset_index(drop=True,inplace=True)\n",
        "print(\"**************\")\n",
        "print(Df2)"
      ],
      "execution_count": 6,
      "outputs": [
        {
          "output_type": "stream",
          "name": "stdout",
          "text": [
            "**************\n",
            "      Score                                  userWallet\n",
            "0      1000  0x00000000001accfa9cef68cf5371a23025b6d4b6\n",
            "1      1000  0x000000000051d07a4fb3bd10121a343d85818da6\n",
            "2       850  0x000000000096026fb41fc39f9875d164bd82e2dc\n",
            "3       612  0x0000000000e189dd664b9ab08a33c4839953852c\n",
            "4       656  0x0000000002032370b971dabd36d72f3e5a7bf1ee\n",
            "...     ...                                         ...\n",
            "3492    891  0x06185db89f5c8ef5e5a0abc95c5cb69b54c33f30\n",
            "3493    700  0x06189341e523a52ae10c4bd4a7774371fac1b249\n",
            "3494   1000  0x0618c450370822c5cb25ec143a3008230d8e2c12\n",
            "3495    618  0x0618e615c8c9b5efc8c8eadc68be7182bdc455e2\n",
            "3496    728  0x06192f889f17bf2aff238d08d8c26cbcfcc7b45a\n",
            "\n",
            "[3497 rows x 2 columns]\n"
          ]
        }
      ]
    },
    {
      "cell_type": "code",
      "source": [
        "sns.histplot(Df2,x='Score',kde=True)\n",
        "plt.title(\"Distribution of Scores in Various Ranges\")\n",
        "plt.savefig(\"Scores_by_snsplot.jpg\")\n",
        "plt.show()"
      ],
      "metadata": {
        "colab": {
          "base_uri": "https://localhost:8080/",
          "height": 472
        },
        "id": "KsTKNxjODFVT",
        "outputId": "cf853117-03d2-4f56-db1b-e992ba4bede4"
      },
      "execution_count": 7,
      "outputs": [
        {
          "output_type": "display_data",
          "data": {
            "text/plain": [
              "<Figure size 640x480 with 1 Axes>"
            ],
            "image/png": "[encoded data removed]"
          },
          "metadata": {}
        }
      ]
    },
    {
      "cell_type": "code",
      "source": [
        "merged_df = pd.merge(df, Df2, on='userWallet', how='inner')\n",
        "print(merged_df.head(2))"
      ],
      "metadata": {
        "colab": {
          "base_uri": "https://localhost:8080/"
        },
        "id": "AoqRBsvsMjm4",
        "outputId": "a80022ec-51cc-47ce-a1bd-471931fb3494"
      },
      "execution_count": 8,
      "outputs": [
        {
          "output_type": "stream",
          "name": "stdout",
          "text": [
            "                                    _id  \\\n",
            "0  {'$oid': '681d38fed63812d4655f571a'}   \n",
            "1  {'$oid': '681aa70dd6df53021cc6f3c0'}   \n",
            "\n",
            "                                   userWallet  network protocol  \\\n",
            "0  0x00000000001accfa9cef68cf5371a23025b6d4b6  polygon  aave_v2   \n",
            "1  0x000000000051d07a4fb3bd10121a343d85818da6  polygon  aave_v2   \n",
            "\n",
            "                                              txHash  \\\n",
            "0  0x695c69acf608fbf5d38e48ca5535e118cc213a89e3d6...   \n",
            "1  0xe6fc162c86b2928b0ba9b82bda672763665152b9de9d...   \n",
            "\n",
            "                                               logId   timestamp  blockNumber  \\\n",
            "0  0x695c69acf608fbf5d38e48ca5535e118cc213a89e3d6...  1629178166   1629178166   \n",
            "1  0xe6fc162c86b2928b0ba9b82bda672763665152b9de9d...  1621525013   1621525013   \n",
            "\n",
            "    action                                         actionData  __v  \\\n",
            "0  deposit  {'type': 'Deposit', 'amount': '2000000000', 'a...    0   \n",
            "1  deposit  {'type': 'Deposit', 'amount': '145000000000000...    0   \n",
            "\n",
            "                               createdAt  \\\n",
            "0  {'$date': '2025-05-08T23:06:39.465Z'}   \n",
            "1  {'$date': '2025-05-07T00:19:26.159Z'}   \n",
            "\n",
            "                               updatedAt  Score  \n",
            "0  {'$date': '2025-05-08T23:06:39.465Z'}   1000  \n",
            "1  {'$date': '2025-05-07T00:19:26.159Z'}   1000  \n"
          ]
        }
      ]
    },
    {
      "cell_type": "markdown",
      "source": [
        "# **Summarizing Behavior of wallets using Heuristic Score**\n",
        "- Most of the wallets get a 1000 score ."
      ],
      "metadata": {
        "id": "5NYrW5W6T53t"
      }
    },
    {
      "cell_type": "code",
      "source": [
        "def bin_scores(df):\n",
        "    df[\"Score\"] = df[\"Score\"].clip(1, 1000)\n",
        "    bins = np.arange(0, 1101, 100)\n",
        "    labels = [f\"{bins[i]}-{bins[i+1]-1}\" for i in range(len(bins)-1)]\n",
        "    df[\"score_range\"] = pd.cut(df[\"Score\"], bins=bins, labels=labels, include_lowest=True, right=False)\n",
        "    return df\n",
        "\n",
        "def plot_distribution(df):\n",
        "    plt.figure(figsize=(8, 5))\n",
        "    sns.histplot(df[\"Score\"], bins=30, kde=True, color=\"skyblue\", edgecolor=\"black\")\n",
        "    plt.title(\"Distribution of Wallet Credit Scores\")\n",
        "    plt.xlabel(\"Score\")\n",
        "    plt.ylabel(\"Wallet Count\")\n",
        "    plt.tight_layout()\n",
        "    plt.savefig(\"score_dist_from_df.png\")\n",
        "    plt.close()\n",
        "\n",
        "def summarize_behavior(transactions):\n",
        "    summary = defaultdict(int)\n",
        "    count = len(transactions)\n",
        "\n",
        "    for tx in transactions:\n",
        "        action = tx.get(\"action\", \"\").lower()\n",
        "        summary[action] += 1\n",
        "\n",
        "    avg_behavior = {k: v / count for k, v in summary.items()} if count > 0 else {}\n",
        "    return avg_behavior\n",
        "\n",
        "def write_analysis(df):\n",
        "    os.makedirs(\"analysis_output\", exist_ok=True)\n",
        "    score_bins = df[\"score_range\"].value_counts().sort_index()\n",
        "\n",
        "    low_df = df[df[\"Score\"] < 400]\n",
        "    high_df = df[df[\"Score\"] >= 800]\n",
        "    low_behavior = summarize_behavior(low_df.to_dict('records'))\n",
        "    high_behavior = summarize_behavior(high_df.to_dict('records'))\n",
        "\n",
        "\n",
        "    with open(\"analysis_output/analysis_from_df.md\", \"w\") as f:\n",
        "        f.write(\"# Credit Score Analysis from Merged DataFrame\\n\\n\")\n",
        "        f.write(\"### Score Distribution\\n\\n\")\n",
        "        f.write(\"![Score Histogram](../score_dist_from_df.png)\\n\\n\")\n",
        "\n",
        "        f.write(\"#### Bin Counts:\\n\")\n",
        "        for bin_label, count in score_bins.items():\n",
        "            f.write(f\"- **{bin_label}**: {count} wallets\\n\")\n",
        "\n",
        "        f.write(\"\\n---\\n\\n\")\n",
        "        f.write(\"### Behavior of Low Score Wallets (Score < 400)\\n\")\n",
        "        if not low_behavior:\n",
        "            f.write(\"No low-score wallets found.\\n\")\n",
        "        else:\n",
        "            for action, avg in low_behavior.items():\n",
        "                f.write(f\"- {action}: {avg:.2f} times per wallet\\n\")\n",
        "\n",
        "        f.write(\"\\n---\\n\\n\")\n",
        "        f.write(\"### Behavior of High Score Wallets (Score >= 800)\\n\")\n",
        "        if not high_behavior:\n",
        "            f.write(\"No high-score wallets found.\\n\")\n",
        "        else:\n",
        "            for action, avg in high_behavior.items():\n",
        "                f.write(f\"- {action}: {avg:.2f} times per wallet\\n\")\n",
        "\n",
        "        f.write(\"\\n---\\n\\n\")\n",
        "        f.write(\"_Generated from `merged_data.json` or DataFrame._\\n\")\n",
        "\n",
        "    print(\"Analysis complete. See:\")\n",
        "    print(\" - analysis_output/analysis_from_df.md\")\n",
        "    print(\" - score_dist_from_df.png\")\n",
        "\n",
        "def main():\n",
        "    df = merged_df\n",
        "    df = bin_scores(df)\n",
        "    plot_distribution(df)\n",
        "    write_analysis(df)\n",
        "\n",
        "if __name__ == \"__main__\":\n",
        "    main()"
      ],
      "metadata": {
        "colab": {
          "base_uri": "https://localhost:8080/"
        },
        "id": "6OhRyIp1Ox4K",
        "outputId": "c5ab4694-65ae-4393-bc80-d6e7232ff61f"
      },
      "execution_count": 9,
      "outputs": [
        {
          "output_type": "stream",
          "name": "stdout",
          "text": [
            "Analysis complete. See:\n",
            " - analysis_output/analysis_from_df.md\n",
            " - score_dist_from_df.png\n"
          ]
        }
      ]
    },
    {
      "cell_type": "markdown",
      "source": [
        "# **Extracting Features and training Random Forest Regressor**"
      ],
      "metadata": {
        "id": "t3SK_yf5TTvg"
      }
    },
    {
      "cell_type": "code",
      "source": [
        "\n",
        "def extract_features(transactions):\n",
        "    actions = [tx[\"action\"].lower() for tx in transactions]\n",
        "    n_txns = len(transactions)\n",
        "\n",
        "    borrow = sum(float(tx.get(\"actionData\", {}).get(\"amount\", 0)) for tx in transactions if tx[\"action\"].lower() == \"borrow\")\n",
        "    repay = sum(float(tx.get(\"actionData\", {}).get(\"amount\", 0)) for tx in transactions if tx[\"action\"].lower() == \"repay\")\n",
        "    deposit = sum(float(tx.get(\"actionData\", {}).get(\"amount\", 0)) for tx in transactions if tx[\"action\"].lower() == \"deposit\")\n",
        "    redeem = sum(float(tx.get(\"actionData\", {}).get(\"amount\", 0)) for tx in transactions if tx[\"action\"].lower() == \"redeemunderlying\")\n",
        "    liquidation_count = actions.count(\"liquidationcall\")\n",
        "    repay_ratio = repay / borrow if borrow else 1\n",
        "    liquidation_ratio = liquidation_count / n_txns if n_txns else 0\n",
        "\n",
        "    return {\n",
        "        \"n_txns\": n_txns,\n",
        "        \"borrow\": borrow,\n",
        "        \"repay\": repay,\n",
        "        \"deposit\": deposit,\n",
        "        \"redeem\": redeem,\n",
        "        \"repay_ratio\": repay_ratio,\n",
        "        \"liquidation_ratio\": liquidation_ratio\n",
        "    }\n",
        "\n",
        "wallets = []\n",
        "features = []\n",
        "\n",
        "\n",
        "for wallet, wallet_df in merged_df.groupby('userWallet'):\n",
        "    wallets.append(wallet)\n",
        "    transactions = wallet_df.to_dict('records')\n",
        "    features.append(extract_features(transactions))\n",
        "\n",
        "df_features = pd.DataFrame(features, index=wallets)\n",
        "\n",
        "# --- Pseudo-label: good if repay_ratio ≥ 0.9, liquidation_ratio ≤ 0.1\n",
        "df_features[\"label\"] = ((df_features[\"repay_ratio\"] >= 0.9) & (df_features[\"liquidation_ratio\"] <= 0.1)).astype(int)\n",
        "\n",
        "\n",
        "model = RandomForestRegressor()\n",
        "X = df_features.drop(\"label\", axis=1)\n",
        "y=Df2['Score']\n",
        "X_train, X_test, y_train, y_test = train_test_split(X, y, test_size=0.2, random_state=42)\n",
        "model.fit(X_train, y_train)\n",
        "scores = np.clip(model.predict(X), 0, 1000)\n",
        "df_features['ml_score']=scores\n",
        "credit_scores_ml = {wallet: int(score) for wallet, score in zip(df_features.index, df_features[\"ml_score\"])}\n",
        "with open(\"ml_credit_scores.json\", \"w\") as f:\n",
        "    json.dump(credit_scores_ml, f, indent=2)\n",
        "\n",
        "print(\"ML-based scores saved to ml_credit_scores.json\")"
      ],
      "metadata": {
        "colab": {
          "base_uri": "https://localhost:8080/"
        },
        "id": "XnLt41t8SnVt",
        "outputId": "8e773fbd-a20d-4539-cb3e-c2f6d4481e11"
      },
      "execution_count": 10,
      "outputs": [
        {
          "output_type": "stream",
          "name": "stdout",
          "text": [
            "ML-based scores saved to ml_credit_scores.json\n"
          ]
        }
      ]
    },
    {
      "cell_type": "code",
      "source": [
        "Df_ml=pd.Series(credit_scores_ml, name='Score').to_frame()\n",
        "Df_ml['userWallet']=Df_ml.index\n",
        "Df_ml.reset_index(drop=True,inplace=True)\n",
        "print(Df_ml)\n",
        "print(\"**************\")\n",
        "sns.histplot(Df_ml,x='Score',kde=True)\n",
        "plt.title(\"Distribution of Scores in Various Ranges\")\n",
        "plt.savefig(\"ML_Scores_by_snsplot.jpg\")\n",
        "plt.show()"
      ],
      "metadata": {
        "colab": {
          "base_uri": "https://localhost:8080/",
          "height": 746
        },
        "id": "7cxvxrfgTlET",
        "outputId": "393f0adc-bb9f-4684-a001-36c7c0aacd55"
      },
      "execution_count": 11,
      "outputs": [
        {
          "output_type": "stream",
          "name": "stdout",
          "text": [
            "      Score                                  userWallet\n",
            "0      1000  0x00000000001accfa9cef68cf5371a23025b6d4b6\n",
            "1      1000  0x000000000051d07a4fb3bd10121a343d85818da6\n",
            "2       859  0x000000000096026fb41fc39f9875d164bd82e2dc\n",
            "3       622  0x0000000000e189dd664b9ab08a33c4839953852c\n",
            "4       659  0x0000000002032370b971dabd36d72f3e5a7bf1ee\n",
            "...     ...                                         ...\n",
            "3492    891  0x06185db89f5c8ef5e5a0abc95c5cb69b54c33f30\n",
            "3493    643  0x06189341e523a52ae10c4bd4a7774371fac1b249\n",
            "3494    969  0x0618c450370822c5cb25ec143a3008230d8e2c12\n",
            "3495    598  0x0618e615c8c9b5efc8c8eadc68be7182bdc455e2\n",
            "3496    716  0x06192f889f17bf2aff238d08d8c26cbcfcc7b45a\n",
            "\n",
            "[3497 rows x 2 columns]\n",
            "**************\n"
          ]
        },
        {
          "output_type": "display_data",
          "data": {
            "text/plain": [
              "<Figure size 640x480 with 1 Axes>"
            ],
            "image/png": "[encoded data removed]"
          },
          "metadata": {}
        }
      ]
    },
    {
      "cell_type": "markdown",
      "source": [
        "# **Classifying user wallets as Whale, Bot etc.**"
      ],
      "metadata": {
        "id": "26CtruLFTga4"
      }
    },
    {
      "cell_type": "code",
      "metadata": {
        "colab": {
          "base_uri": "https://localhost:8080/"
        },
        "id": "m2-U7h77C4VH",
        "outputId": "73f964fe-e0fc-4680-8d42-5bf9dda03e0d"
      },
      "source": [
        "def classify_wallet(row):\n",
        "    if row[\"deposit\"] > 100000 and row[\"n_txns\"] < 10:\n",
        "        return \"Whale\"\n",
        "    elif row[\"n_txns\"] > 100 and row[\"deposit\"] < 500:\n",
        "        return \"Bot\"\n",
        "    elif row[\"deposit\"] > 0 and row[\"redeem\"] > 0 and row[\"n_txns\"] > 10:\n",
        "        return \"Farmer\"\n",
        "    else:\n",
        "        return \"Other\"\n",
        "\n",
        "df_features[\"behavior_type\"] = df_features.apply(classify_wallet, axis=1)\n",
        "\n",
        "score_mapping = {\n",
        "    \"Whale\": 950,\n",
        "    \"Farmer\": 800,\n",
        "    \"Other\": 600,\n",
        "    \"Bot\": 200\n",
        "}\n",
        "\n",
        "df_features[\"cluster_score\"] = df_features[\"behavior_type\"].map(score_mapping)\n",
        "\n",
        "wallet_scores_cluster = {\n",
        "    wallet: {\n",
        "        \"behavior\": df_features.loc[wallet, \"behavior_type\"],\n",
        "        \"score\": int(df_features.loc[wallet, \"cluster_score\"])\n",
        "    }\n",
        "    for wallet in df_features.index\n",
        "}\n",
        "\n",
        "with open(\"cluster_credit_scores.json\", \"w\") as f:\n",
        "    json.dump(wallet_scores_cluster, f, indent=2)\n",
        "\n",
        "print(\"Cluster-based behavior scores saved to cluster_credit_scores.json\")"
      ],
      "execution_count": 12,
      "outputs": [
        {
          "output_type": "stream",
          "name": "stdout",
          "text": [
            "Cluster-based behavior scores saved to cluster_credit_scores.json\n"
          ]
        }
      ]
    },
    {
      "cell_type": "code",
      "source": [
        "print(df_features['behavior_type'].value_counts())"
      ],
      "metadata": {
        "colab": {
          "base_uri": "https://localhost:8080/"
        },
        "id": "ehuciOY9DpB7",
        "outputId": "6bcfdb87-214d-42c0-99c4-f385cf214d03"
      },
      "execution_count": 13,
      "outputs": [
        {
          "output_type": "stream",
          "name": "stdout",
          "text": [
            "behavior_type\n",
            "Whale     2179\n",
            "Farmer     941\n",
            "Other      374\n",
            "Bot          3\n",
            "Name: count, dtype: int64\n"
          ]
        }
      ]
    },
    {
      "cell_type": "markdown",
      "source": [
        "**Classification of Behavior of User Wallet**"
      ],
      "metadata": {
        "id": "sj4EKnsCUfMf"
      }
    },
    {
      "cell_type": "markdown",
      "source": [
        "| Behavior Type | Reasoning                         | Score |\n",
        "| ------------- | --------------------------------- | ----- |\n",
        "| **Whales**    | Big money, `fewer actions — safe` | 950   |\n",
        "| **Farmers**   |`Balanced usage` — lending/earning | 800   |\n",
        "| **Bots**      | High-frequency, low value —`risky`| 200   |\n",
        "| **Other**     | Mixed or unclear pattern          | 600   |\n"
      ],
      "metadata": {
        "id": "7L_HuRkEUCQG"
      }
    },
    {
      "cell_type": "markdown",
      "source": [
        "# **Summarizing Behavior using Scores obtained with ML model**"
      ],
      "metadata": {
        "id": "uHDQzwmxTtjq"
      }
    },
    {
      "cell_type": "code",
      "source": [
        "merged_df_with_ml = pd.merge(df,Df_ml, on='userWallet', how='inner')\n",
        "print(merged_df_with_ml.head(2))"
      ],
      "metadata": {
        "colab": {
          "base_uri": "https://localhost:8080/"
        },
        "id": "eNztMWC1MrQs",
        "outputId": "62e7c5b6-e7ee-445c-f5f8-d354cce0d607"
      },
      "execution_count": 14,
      "outputs": [
        {
          "output_type": "stream",
          "name": "stdout",
          "text": [
            "                                    _id  \\\n",
            "0  {'$oid': '681d38fed63812d4655f571a'}   \n",
            "1  {'$oid': '681aa70dd6df53021cc6f3c0'}   \n",
            "\n",
            "                                   userWallet  network protocol  \\\n",
            "0  0x00000000001accfa9cef68cf5371a23025b6d4b6  polygon  aave_v2   \n",
            "1  0x000000000051d07a4fb3bd10121a343d85818da6  polygon  aave_v2   \n",
            "\n",
            "                                              txHash  \\\n",
            "0  0x695c69acf608fbf5d38e48ca5535e118cc213a89e3d6...   \n",
            "1  0xe6fc162c86b2928b0ba9b82bda672763665152b9de9d...   \n",
            "\n",
            "                                               logId   timestamp  blockNumber  \\\n",
            "0  0x695c69acf608fbf5d38e48ca5535e118cc213a89e3d6...  1629178166   1629178166   \n",
            "1  0xe6fc162c86b2928b0ba9b82bda672763665152b9de9d...  1621525013   1621525013   \n",
            "\n",
            "    action                                         actionData  __v  \\\n",
            "0  deposit  {'type': 'Deposit', 'amount': '2000000000', 'a...    0   \n",
            "1  deposit  {'type': 'Deposit', 'amount': '145000000000000...    0   \n",
            "\n",
            "                               createdAt  \\\n",
            "0  {'$date': '2025-05-08T23:06:39.465Z'}   \n",
            "1  {'$date': '2025-05-07T00:19:26.159Z'}   \n",
            "\n",
            "                               updatedAt  Score  \n",
            "0  {'$date': '2025-05-08T23:06:39.465Z'}   1000  \n",
            "1  {'$date': '2025-05-07T00:19:26.159Z'}   1000  \n"
          ]
        }
      ]
    },
    {
      "cell_type": "code",
      "source": [
        "def bin_scores(df):\n",
        "    df[\"Score\"] = df['Score'].clip(1, 1000)\n",
        "    bins = np.arange(0, 1101, 100)\n",
        "    labels = [f\"{bins[i]}-{bins[i+1]-1}\" for i in range(len(bins)-1)]\n",
        "    df[\"score_range\"] = pd.cut(df[\"Score\"], bins=bins, labels=labels, include_lowest=True, right=False)\n",
        "    return df\n",
        "\n",
        "def plot_distribution(df):\n",
        "    plt.figure(figsize=(8, 5))\n",
        "    sns.histplot(df[\"Score\"], bins=30, kde=True, color=\"skyblue\", edgecolor=\"black\")\n",
        "    plt.title(\"Distribution of Wallet Credit Scores\")\n",
        "    plt.xlabel(\"Score\")\n",
        "    plt.ylabel(\"Wallet Count\")\n",
        "    plt.tight_layout()\n",
        "    plt.savefig(\"score_dist_from_df_ml.png\")\n",
        "    plt.close()\n",
        "\n",
        "def summarize_behavior(transactions):\n",
        "    summary = defaultdict(float)\n",
        "    count = len(transactions)\n",
        "\n",
        "    for tx in transactions:\n",
        "        action = tx.get(\"action\", \"\").lower()\n",
        "        try:\n",
        "            amount = float(tx.get(\"actionData\", {}).get(\"amount\", 0))\n",
        "        except (ValueError, TypeError):\n",
        "            amount = 0.0\n",
        "\n",
        "        if action == \"borrow\":\n",
        "            summary['total_borrow'] += amount\n",
        "        elif action == \"repay\":\n",
        "            summary['total_repay'] += amount\n",
        "        elif action == \"deposit\":\n",
        "            summary['total_deposit'] += amount\n",
        "        elif action == \"redeemunderlying\":\n",
        "            summary['total_redeem'] += amount\n",
        "\n",
        "        summary[f'{action}_count'] += 1\n",
        "\n",
        "    avg_behavior = {}\n",
        "    avg_behavior['avg_borrow'] = summary['total_borrow'] / count\n",
        "    avg_behavior['avg_repay'] = summary['total_repay'] / count\n",
        "    avg_behavior['avg_deposit'] = summary['total_deposit'] / count\n",
        "    avg_behavior['avg_redeem'] = summary['total_redeem'] / count\n",
        "\n",
        "    avg_behavior['repay_to_borrow_ratio'] = summary['total_repay'] / summary['total_borrow'] if summary['total_borrow'] > 0 else 1\n",
        "    avg_behavior['liquidation_ratio'] = summary['liquidationcall_count'] / count if count > 0 else 0\n",
        "\n",
        "\n",
        "    for action in ['borrow', 'repay', 'deposit', 'redeemunderlying', 'liquidationcall']:\n",
        "        avg_behavior[f'%_{action}'] = summary[f'{action}_count'] / count * 100 if count > 0 else 0\n",
        "\n",
        "\n",
        "    return avg_behavior\n",
        "\n",
        "\n",
        "def write_analysis(df):\n",
        "    os.makedirs(\"analysis_output\", exist_ok=True)\n",
        "    score_bins = df[\"score_range\"].value_counts().sort_index()\n",
        "\n",
        "    low_df = df[df[\"Score\"] < 400]\n",
        "    high_df = df[df[\"Score\"] >= 800]\n",
        "\n",
        "    low_behavior = summarize_behavior(low_df.to_dict('records'))\n",
        "    high_behavior = summarize_behavior(high_df.to_dict('records'))\n",
        "\n",
        "\n",
        "    with open(\"analysis_output/analysis_from_df_ml.md\", \"w\") as f:\n",
        "        f.write(\"# Credit Score Analysis from Merged DataFrame\\n\\n\")\n",
        "        f.write(\"### Score Distribution\\n\\n\")\n",
        "        f.write(\"![Score Histogram](../score_dist_from_df_ml.png)\\n\\n\")\n",
        "\n",
        "        f.write(\"#### Bin Counts:\\n\")\n",
        "        for bin_label, count in score_bins.items():\n",
        "            f.write(f\"- **{bin_label}**: {count} wallets\\n\")\n",
        "\n",
        "        f.write(\"\\n---\\n\\n\")\n",
        "        f.write(\"### Behavior of Low Score Wallets (Score < 400)\\n\")\n",
        "        if not low_behavior:\n",
        "            f.write(\"No low-score wallets found.\\n\")\n",
        "        else:\n",
        "            for action, avg in low_behavior.items():\n",
        "                f.write(f\"- {action}: {avg:.2f}\\n\") # Removed 'times per wallet' as it's not always an average count\n",
        "\n",
        "        f.write(\"\\n---\\n\\n\")\n",
        "        f.write(\"### Behavior of High Score Wallets (Score >= 800)\\n\")\n",
        "        if not high_behavior:\n",
        "            f.write(\"No high-score wallets found.\\n\")\n",
        "        else:\n",
        "            for action, avg in high_behavior.items():\n",
        "                f.write(f\"- {action}: {avg:.2f}\\n\") # Removed 'times per wallet'\n",
        "\n",
        "        f.write(\"\\n---\\n\\n\")\n",
        "        f.write(\"_Generated from `df_features` or DataFrame._\\n\")\n",
        "\n",
        "    print(\"Analysis complete. See:\")\n",
        "    print(\" - analysis_output/analysis_from_df_ml.md\")\n",
        "    print(\" - score_dist_from_df_ml.png\")\n",
        "\n",
        "\n",
        "def main():\n",
        "    df = merged_df_with_ml\n",
        "    df = bin_scores(df)\n",
        "    plot_distribution(df)\n",
        "    write_analysis(df)\n",
        "\n",
        "\n",
        "if __name__ == \"__main__\":\n",
        "    main()"
      ],
      "metadata": {
        "colab": {
          "base_uri": "https://localhost:8080/"
        },
        "id": "hKcNo9nlGF66",
        "outputId": "bb208477-4d5a-4d53-de58-1da83e8224c9"
      },
      "execution_count": 15,
      "outputs": [
        {
          "output_type": "stream",
          "name": "stdout",
          "text": [
            "Analysis complete. See:\n",
            " - analysis_output/analysis_from_df_ml.md\n",
            " - score_dist_from_df_ml.png\n"
          ]
        }
      ]
    }
  ]
}